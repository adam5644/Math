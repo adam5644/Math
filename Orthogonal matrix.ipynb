{
 "cells": [
  {
   "cell_type": "markdown",
   "id": "81d90d85",
   "metadata": {},
   "source": [
    "(q) What is the limit of (cos(x)-1)/ x^2 as x approaches 0?\n",
    "(a) = lim->inf ( [-sin(x)-1]/2x) = -0.5"
   ]
  }
 ],
 "metadata": {
  "kernelspec": {
   "display_name": "Python 3 (ipykernel)",
   "language": "python",
   "name": "python3"
  },
  "language_info": {
   "codemirror_mode": {
    "name": "ipython",
    "version": 3
   },
   "file_extension": ".py",
   "mimetype": "text/x-python",
   "name": "python",
   "nbconvert_exporter": "python",
   "pygments_lexer": "ipython3",
   "version": "3.11.7"
  }
 },
 "nbformat": 4,
 "nbformat_minor": 5
}
