{
 "cells": [
  {
   "cell_type": "markdown",
   "id": "52645e6f",
   "metadata": {},
   "source": [
    "# Couple Handshakes\n",
    "- (q) A room of four couples greet each other by shaking hands. If each person shakes the hand of every other person besides their partner, how many handshakes occur?\n",
    "- (a) 8c2 -4 = 24"
   ]
  },
  {
   "cell_type": "markdown",
   "id": "1f5d2a0f",
   "metadata": {},
   "source": [
    "# Points on a Circle III\n",
    "- (q) There are 8 points on a circle. You draw all possible chords that can be formed by connecting pairs each pair of points. Then, you randomly selects 4 chords. What is the probability that the 4 chords form a convex quadrilateral?\n",
    "- (a) \n",
    "- 1 chord = 2 points connected\n",
    "- total number of cords = 8c2 =28\n",
    "- ways to choose 4 chords = 28c4 = 20475\n",
    "- total number of quadrilateral = 8c4 = 70\n",
    "- ans = total number of quadrilateral / total number of cords = 70/20475 = 2/585"
   ]
  },
  {
   "cell_type": "markdown",
   "id": "9cf1e816",
   "metadata": {},
   "source": [
    "# Faulty Manufacturing\n",
    "- a manufacturer puts tires on 2 cars (4 tires each). Each tire has 10% probability of being flat. Assume the manufacturer puts 4 tires on one car first, then another 4 on the next car second. Whats the probability that there is at least one car that has no working tires?\n",
    "- (a) one car all faulty and another car not all faulty + both faulty\n",
    "- = 2(0.1^4)(1-0.1^4)+0.1^8 = 1.9999e-4"
   ]
  }
 ],
 "metadata": {
  "kernelspec": {
   "display_name": "Python 3 (ipykernel)",
   "language": "python",
   "name": "python3"
  },
  "language_info": {
   "codemirror_mode": {
    "name": "ipython",
    "version": 3
   },
   "file_extension": ".py",
   "mimetype": "text/x-python",
   "name": "python",
   "nbconvert_exporter": "python",
   "pygments_lexer": "ipython3",
   "version": "3.11.7"
  }
 },
 "nbformat": 4,
 "nbformat_minor": 5
}
