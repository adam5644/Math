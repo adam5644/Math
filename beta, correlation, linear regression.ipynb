{
 "cells": [
  {
   "cell_type": "markdown",
   "id": "df611b4d",
   "metadata": {},
   "source": [
    "- (q) var(x)=10, var(y)=20. linear regression y=a_x + b_x x  found that b=1, what is the b_y for x = a_y + b_y y?\n",
    "- (a) let r be pearson correlaton coefficient of x and y. \n",
    "    - b_x = r(sigma_y / sigma_x) )\n",
    "    - b_y = r(sigma_x / sigma)y )\n",
    "    - b_y / b_x = sigma_y **2 / sigma_x "
   ]
  },
  {
   "cell_type": "code",
   "execution_count": null,
   "id": "ab6301f2",
   "metadata": {},
   "outputs": [],
   "source": []
  }
 ],
 "metadata": {
  "kernelspec": {
   "display_name": "Python 3 (ipykernel)",
   "language": "python",
   "name": "python3"
  },
  "language_info": {
   "codemirror_mode": {
    "name": "ipython",
    "version": 3
   },
   "file_extension": ".py",
   "mimetype": "text/x-python",
   "name": "python",
   "nbconvert_exporter": "python",
   "pygments_lexer": "ipython3",
   "version": "3.11.7"
  }
 },
 "nbformat": 4,
 "nbformat_minor": 5
}
