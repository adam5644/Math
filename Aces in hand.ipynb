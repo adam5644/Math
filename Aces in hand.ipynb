{
 "cells": [
  {
   "cell_type": "markdown",
   "id": "667ae46b",
   "metadata": {},
   "source": [
    "(q) you are dealt 5 cards from a deck. given that at least 3 are aces, whats the probability that you have 4 aces?\n",
    "(a) 48 / ( 48choose2 * 4choose3) = 1/94"
   ]
  }
 ],
 "metadata": {
  "kernelspec": {
   "display_name": "Python 3 (ipykernel)",
   "language": "python",
   "name": "python3"
  },
  "language_info": {
   "codemirror_mode": {
    "name": "ipython",
    "version": 3
   },
   "file_extension": ".py",
   "mimetype": "text/x-python",
   "name": "python",
   "nbconvert_exporter": "python",
   "pygments_lexer": "ipython3",
   "version": "3.11.7"
  }
 },
 "nbformat": 4,
 "nbformat_minor": 5
}
